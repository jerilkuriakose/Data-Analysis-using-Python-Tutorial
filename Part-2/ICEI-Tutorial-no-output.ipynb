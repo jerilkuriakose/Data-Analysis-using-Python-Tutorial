{
 "cells": [
  {
   "cell_type": "markdown",
   "metadata": {},
   "source": [
    "# Machine Learning using Python"
   ]
  },
  {
   "cell_type": "markdown",
   "metadata": {},
   "source": [
    "Machine Learning is a field that is at the forefront of computing today. In fact, it is omnipresent in the computing world! Even if you’ve never heard of Machine Learning before, you use it many times  (in a day!) without probably even realizing it! You make a Google search. There’s Machine Learning running in the background which ranks the results (so that you see the most relevant results first). You log in to your email account. It is Machine Learning that determines which emails should appear in your inbox and which ones in your spam folder.\n",
    "\n",
    "Did you know? Machine Learning, or ML for short, is being used today to make driver-less cars, predict emergency room waiting times, identify whales in oceans based on audio recordings (so that ships can avoid hitting them), and make intelligent recommendations on which movie one should watch next on services such as Netflix."
   ]
  },
  {
   "cell_type": "markdown",
   "metadata": {},
   "source": [
    "### Machine Leaning libraries in Python\n",
    "* Tensorflow\n",
    "* scikit-learn\n",
    "* Theano\n",
    "* Pylearn2\n",
    "* Pyevolve\n",
    "* NuPIC\n",
    "* Pattern\n",
    "* Caffe\n",
    "\n",
    "Other libraries\n",
    "* Nilearn\n",
    "* Statsmodels\n",
    "* PyBrain (inactive)\n",
    "* Fuel\n",
    "* Bob\n",
    "* skdata\n",
    "* MILK\n",
    "* IEPY\n",
    "* Quepy\n",
    "* Hebel\n",
    "* mlxtend\n",
    "* nolearn\n",
    "* Ramp\n",
    "* Feature Forge\n",
    "* REP\n",
    "* Python-ELM\n",
    "* PythonXY\n",
    "* XCS\n",
    "* PyML\n",
    "* MLPY (inactive)\n",
    "* Orange\n",
    "* Monte\n",
    "* PYMVPA\n",
    "* MDP (inactive)\n",
    "* Shogun\n",
    "* PyMC\n",
    "* Gensim\n",
    "* Neurolab\n",
    "* FFnet (inactive)\n",
    "* LibSVM\n",
    "* Spearmint\n",
    "* Chainer\n",
    "* topik\n",
    "* Crab\n",
    "* CoverTree\n",
    "* breze\n",
    "* deap\n",
    "* neurolab\n",
    "* Spearmint\n",
    "* yahmm\n",
    "* pydeep\n",
    "* Annoy\n",
    "* neon\n",
    "* sentiment"
   ]
  },
  {
   "cell_type": "markdown",
   "metadata": {},
   "source": [
    "![caption](Steps-to-Predictive-Modelling.jpg)"
   ]
  },
  {
   "cell_type": "markdown",
   "metadata": {},
   "source": [
    "Image source: https://upxacademy.com/introduction-machine-learning/"
   ]
  },
  {
   "cell_type": "code",
   "execution_count": null,
   "metadata": {
    "collapsed": true
   },
   "outputs": [],
   "source": [
    "import numpy as np\n",
    "import pandas as pd\n",
    "from patsy import dmatrices\n",
    "import statsmodels.api as sm\n",
    "from sklearn import svm\n",
    "import warnings\n",
    "import matplotlib.pyplot as plt\n",
    "\n",
    "# To display plots inside notebook\n",
    "%matplotlib inline\n",
    "\n",
    "warnings.filterwarnings('ignore')\n",
    "\n",
    "# notebook parameters\n",
    "pd.set_option('display.max_rows', 15)"
   ]
  },
  {
   "cell_type": "markdown",
   "metadata": {},
   "source": [
    "# GET DATA"
   ]
  },
  {
   "cell_type": "markdown",
   "metadata": {},
   "source": [
    "### Data Handling\n",
    "#### Let's read our data in using pandas:"
   ]
  },
  {
   "cell_type": "code",
   "execution_count": null,
   "metadata": {
    "collapsed": false
   },
   "outputs": [],
   "source": [
    "df = pd.read_csv(r\"data/train.csv\")"
   ]
  },
  {
   "cell_type": "code",
   "execution_count": null,
   "metadata": {
    "collapsed": false
   },
   "outputs": [],
   "source": [
    "df"
   ]
  },
  {
   "cell_type": "code",
   "execution_count": null,
   "metadata": {
    "collapsed": false
   },
   "outputs": [],
   "source": [
    "df.describe()"
   ]
  },
  {
   "cell_type": "markdown",
   "metadata": {},
   "source": [
    "#### To view the columns individually"
   ]
  },
  {
   "cell_type": "code",
   "execution_count": null,
   "metadata": {
    "collapsed": false
   },
   "outputs": [],
   "source": [
    "df['Name']"
   ]
  },
  {
   "cell_type": "markdown",
   "metadata": {},
   "source": [
    "#### To find the occurence of each object"
   ]
  },
  {
   "cell_type": "code",
   "execution_count": null,
   "metadata": {
    "collapsed": false
   },
   "outputs": [],
   "source": [
    "df['Pclass'].value_counts()"
   ]
  },
  {
   "cell_type": "code",
   "execution_count": null,
   "metadata": {
    "collapsed": false
   },
   "outputs": [],
   "source": [
    "df['Sex'].value_counts()"
   ]
  },
  {
   "cell_type": "markdown",
   "metadata": {},
   "source": [
    "# CLEAN, PREPARE, AND MANIPULATE DATA"
   ]
  },
  {
   "cell_type": "code",
   "execution_count": null,
   "metadata": {
    "collapsed": false
   },
   "outputs": [],
   "source": [
    "df.apply(lambda x: sum(x.isnull()), axis=0)"
   ]
  },
  {
   "cell_type": "code",
   "execution_count": null,
   "metadata": {
    "collapsed": false
   },
   "outputs": [],
   "source": [
    "df.apply(lambda x: sum(x.notnull()), axis=0)"
   ]
  },
  {
   "cell_type": "markdown",
   "metadata": {},
   "source": [
    "#### To drop the column that is not required"
   ]
  },
  {
   "cell_type": "code",
   "execution_count": null,
   "metadata": {
    "collapsed": false
   },
   "outputs": [],
   "source": [
    "df.drop(['Cabin'], axis=1)"
   ]
  },
  {
   "cell_type": "code",
   "execution_count": null,
   "metadata": {
    "collapsed": true
   },
   "outputs": [],
   "source": [
    "df = df.drop(['Cabin'], axis=1)\n",
    "# df.drop(['Cabin'], axis=1, inplace=True)"
   ]
  },
  {
   "cell_type": "code",
   "execution_count": null,
   "metadata": {
    "collapsed": true
   },
   "outputs": [],
   "source": [
    "# Remove NaN values\n",
    "df = df.dropna()\n",
    "# df.dropna(inplace=True)"
   ]
  },
  {
   "cell_type": "code",
   "execution_count": null,
   "metadata": {
    "collapsed": false
   },
   "outputs": [],
   "source": [
    "df.head()"
   ]
  },
  {
   "cell_type": "markdown",
   "metadata": {},
   "source": [
    "#### Now let's check for the 'notnull' values"
   ]
  },
  {
   "cell_type": "code",
   "execution_count": null,
   "metadata": {
    "collapsed": false
   },
   "outputs": [],
   "source": [
    "df.apply(lambda x: sum(x.notnull()), axis=0)"
   ]
  },
  {
   "cell_type": "markdown",
   "metadata": {},
   "source": [
    "### Visualize our data graphically:"
   ]
  },
  {
   "cell_type": "markdown",
   "metadata": {},
   "source": [
    "#### plot a bar graph of those who surived vs those who did not"
   ]
  },
  {
   "cell_type": "code",
   "execution_count": null,
   "metadata": {
    "collapsed": false
   },
   "outputs": [],
   "source": [
    "df['Survived'].value_counts().plot(kind='bar')\n",
    "plt.title(\"Distribution of Survival, (1 = Survived)\")\n",
    "plt.grid(True)"
   ]
  },
  {
   "cell_type": "code",
   "execution_count": null,
   "metadata": {
    "collapsed": false
   },
   "outputs": [],
   "source": [
    "plt.scatter(df['Survived'], df['Age'])\n",
    "plt.title(\"Survival by Age, (1 = Survived)\")\n",
    "plt.grid(True, axis='y')"
   ]
  },
  {
   "cell_type": "code",
   "execution_count": null,
   "metadata": {
    "collapsed": false
   },
   "outputs": [],
   "source": [
    "df['Pclass'].value_counts().plot(kind=\"barh\")\n",
    "plt.grid(True)"
   ]
  },
  {
   "cell_type": "markdown",
   "metadata": {},
   "source": [
    "#### Checking for 'class 1' passengers"
   ]
  },
  {
   "cell_type": "code",
   "execution_count": null,
   "metadata": {
    "collapsed": false
   },
   "outputs": [],
   "source": [
    "df['Pclass'] == 1"
   ]
  },
  {
   "cell_type": "markdown",
   "metadata": {},
   "source": [
    "#### Passing the 'class 1' passengers list to 'Age' --> To find out the age of 'class 1' passenges"
   ]
  },
  {
   "cell_type": "code",
   "execution_count": null,
   "metadata": {
    "collapsed": false
   },
   "outputs": [],
   "source": [
    "df['Age'][df['Pclass'] == 1]"
   ]
  },
  {
   "cell_type": "code",
   "execution_count": null,
   "metadata": {
    "collapsed": false
   },
   "outputs": [],
   "source": [
    "len(df['Age'][df['Pclass'] == 1])"
   ]
  },
  {
   "cell_type": "code",
   "execution_count": null,
   "metadata": {
    "collapsed": false
   },
   "outputs": [],
   "source": [
    "df['Age'][df['Pclass'] == 1].plot(kind='kde')    \n",
    "df['Age'][df['Pclass'] == 2].plot(kind='kde')\n",
    "df['Age'][df['Pclass'] == 3].plot(kind='kde')\n",
    "plt.xlabel(\"Age\")    \n",
    "plt.title(\"Age Distribution within classes\")\n",
    "# sets our legend for our graph.\n",
    "plt.legend(('1st Class', '2nd Class', '3rd Class'), loc='best')\n",
    "plt.grid(True)"
   ]
  },
  {
   "cell_type": "markdown",
   "metadata": {},
   "source": [
    "### Exploratory Visualization:\n",
    "The point of this tutorial is to predict if an individual will survive based on the features in the data like:\n",
    "\n",
    "* Traveling Class (called pclass in the data)\n",
    "* Sex\n",
    "* Age\n",
    "* Fare Price"
   ]
  },
  {
   "cell_type": "code",
   "execution_count": null,
   "metadata": {
    "collapsed": false
   },
   "outputs": [],
   "source": [
    "df['Survived'].value_counts().plot(kind='barh', color=\"orange\") \n",
    "plt.title(\"Survival Breakdown (1 = Survived, 0 = Died)\")\n",
    "plt.grid(True)"
   ]
  },
  {
   "cell_type": "markdown",
   "metadata": {},
   "source": [
    "#### Find out the count of total male and female survived, in ascending order"
   ]
  },
  {
   "cell_type": "code",
   "execution_count": null,
   "metadata": {
    "collapsed": false
   },
   "outputs": [],
   "source": [
    "df['Survived'][df['Sex'] == 'male'].value_counts()"
   ]
  },
  {
   "cell_type": "code",
   "execution_count": null,
   "metadata": {
    "collapsed": false
   },
   "outputs": [],
   "source": [
    "df['Survived'][df['Sex'] == 'female'].value_counts()"
   ]
  },
  {
   "cell_type": "code",
   "execution_count": null,
   "metadata": {
    "collapsed": true
   },
   "outputs": [],
   "source": [
    "df_male = df['Survived'][df['Sex'] == 'male'].value_counts().sort_index()\n",
    "df_female = df['Survived'][df['Sex'] == 'female'].value_counts().sort_index()"
   ]
  },
  {
   "cell_type": "code",
   "execution_count": null,
   "metadata": {
    "collapsed": false
   },
   "outputs": [],
   "source": [
    "df_male"
   ]
  },
  {
   "cell_type": "code",
   "execution_count": null,
   "metadata": {
    "collapsed": false
   },
   "outputs": [],
   "source": [
    "df_female"
   ]
  },
  {
   "cell_type": "code",
   "execution_count": null,
   "metadata": {
    "collapsed": false
   },
   "outputs": [],
   "source": [
    "df_male.plot(kind='barh', color='blue', label='Male', alpha=0.55)\n",
    "df_female.plot(kind='barh', color='pink', label='Female', alpha=0.55)\n",
    "plt.grid(True)\n",
    "plt.legend(loc='best')\n",
    "plt.title(\"Who Survived? with respect to Gender, (raw value counts)\")"
   ]
  },
  {
   "cell_type": "markdown",
   "metadata": {},
   "source": [
    "#### Now let's find out the ratio of survived people"
   ]
  },
  {
   "cell_type": "code",
   "execution_count": null,
   "metadata": {
    "collapsed": false
   },
   "outputs": [],
   "source": [
    "df_male.sum()"
   ]
  },
  {
   "cell_type": "code",
   "execution_count": null,
   "metadata": {
    "collapsed": false
   },
   "outputs": [],
   "source": [
    "df_female.sum()"
   ]
  },
  {
   "cell_type": "code",
   "execution_count": null,
   "metadata": {
    "collapsed": false
   },
   "outputs": [],
   "source": [
    "df_male/float(df_male.sum())"
   ]
  },
  {
   "cell_type": "code",
   "execution_count": null,
   "metadata": {
    "collapsed": false
   },
   "outputs": [],
   "source": [
    "df_female/float(df_female.sum())"
   ]
  },
  {
   "cell_type": "code",
   "execution_count": null,
   "metadata": {
    "collapsed": false
   },
   "outputs": [],
   "source": [
    "(df_male/float(df_male.sum())).plot(kind='barh', label='Male', alpha=0.55)  \n",
    "(df_female/float(df_female.sum())).plot(kind='barh', color='#FA2379', label='Female', alpha=0.55)\n",
    "plt.title(\"Who Survived proportionally? with respect to Gender\")\n",
    "plt.grid(True)\n",
    "plt.legend(loc='best')"
   ]
  },
  {
   "cell_type": "markdown",
   "metadata": {},
   "source": [
    "#### Let's try going some more deeper, by finding out the the passenger class wise survival"
   ]
  },
  {
   "cell_type": "code",
   "execution_count": null,
   "metadata": {
    "collapsed": false
   },
   "outputs": [],
   "source": [
    "female_highclass = df['Survived'][(df['Pclass'] != 3) & (df['Sex'] == 'female')].value_counts()\n",
    "female_lowclass = df['Survived'][(df['Pclass'] == 3) & (df['Sex'] == 'female')].value_counts()\n",
    "male_highclass = df['Survived'][(df['Pclass'] != 3) & (df['Sex'] == 'male')].value_counts()\n",
    "male_lowclass = df['Survived'][(df['Pclass'] == 3) & (df['Sex'] == 'male')].value_counts()"
   ]
  },
  {
   "cell_type": "code",
   "execution_count": null,
   "metadata": {
    "collapsed": false
   },
   "outputs": [],
   "source": [
    "female_highclass"
   ]
  },
  {
   "cell_type": "code",
   "execution_count": null,
   "metadata": {
    "collapsed": false
   },
   "outputs": [],
   "source": [
    "female_lowclass"
   ]
  },
  {
   "cell_type": "code",
   "execution_count": null,
   "metadata": {
    "collapsed": false
   },
   "outputs": [],
   "source": [
    "male_highclass"
   ]
  },
  {
   "cell_type": "code",
   "execution_count": null,
   "metadata": {
    "collapsed": false
   },
   "outputs": [],
   "source": [
    "male_lowclass"
   ]
  },
  {
   "cell_type": "code",
   "execution_count": null,
   "metadata": {
    "collapsed": false
   },
   "outputs": [],
   "source": [
    "# figure parameters\n",
    "fig = plt.figure(figsize=(18,4), dpi=1600)\n",
    "\n",
    "# Making subplots\n",
    "# # equivalent but more general\n",
    "# fig.add_subplot(1,1,1)\n",
    "    \n",
    "# # add subplot with red background\n",
    "# fig.add_subplot(212, axisbg='r')\n",
    "\n",
    "# 141 represents the following:\n",
    "# 1 --> no of rows\n",
    "# 4 --> no of columns\n",
    "# 1 --> plot number\n",
    "ax1 = fig.add_subplot(141)\n",
    "female_highclass.plot(kind='bar', label='female, highclass', color='#FA2479', alpha=0.55)\n",
    "ax1.set_xticklabels([\"Survived\", \"Died\"], rotation=0)\n",
    "plt.title(\"Who Survived? with respect to Gender and Class\")\n",
    "plt.legend(loc='best')\n",
    "plt.grid(True)\n",
    "\n",
    "# 'sharey' --> shares the y axis with the mentioned axis\n",
    "# now ax2 shares the y axis of ax1\n",
    "ax2 = fig.add_subplot(142, sharey=ax1)\n",
    "female_lowclass.plot(kind='bar', label='female, low class', color='pink', alpha=0.55)\n",
    "ax2.set_xticklabels([\"Died\", \"Survived\"], rotation=0)\n",
    "plt.legend(loc='best')\n",
    "plt.grid(True)\n",
    "\n",
    "ax3 = fig.add_subplot(143, sharey=ax1)\n",
    "male_lowclass.plot(kind='bar', label='male, low class',color='lightblue', alpha=0.55)\n",
    "ax3.set_xticklabels([\"Died\", \"Survived\"], rotation=0)\n",
    "plt.legend(loc='best')\n",
    "plt.grid(True)\n",
    "\n",
    "ax4 = fig.add_subplot(144, sharey=ax1)\n",
    "male_highclass.plot(kind='bar', label='male, highclass', color='steelblue', alpha=0.55)\n",
    "ax4.set_xticklabels([\"Died\", \"Survived\"], rotation=0)\n",
    "plt.legend(loc='best')\n",
    "plt.grid(True)"
   ]
  },
  {
   "cell_type": "code",
   "execution_count": null,
   "metadata": {
    "collapsed": false
   },
   "outputs": [],
   "source": [
    "df['Survived'][df.Sex == 'male'].value_counts().sort_index()"
   ]
  },
  {
   "cell_type": "code",
   "execution_count": null,
   "metadata": {
    "collapsed": false
   },
   "outputs": [],
   "source": [
    "df['Survived'][df.Sex == 'female'].value_counts()"
   ]
  },
  {
   "cell_type": "code",
   "execution_count": null,
   "metadata": {
    "collapsed": false
   },
   "outputs": [],
   "source": [
    "fig = plt.figure(figsize=(18,4), dpi=1600)\n",
    "\n",
    "ax1 = fig.add_subplot(121)\n",
    "df['Survived'][df.Sex == 'female'].value_counts().sort_index().plot(kind='bar', color='#FA2379', label='Female', alpha=0.55)\n",
    "df['Survived'][df.Sex == 'male'].value_counts().sort_index().plot(kind='bar', label='Male', alpha=0.55)\n",
    "plt.title(\"Who Survied? with respect to Gender.\")\n",
    "plt.legend(loc='best')\n",
    "plt.grid(True)\n",
    "\n",
    "ax2 = fig.add_subplot(122)\n",
    "(df['Survived'][df['Sex'] == 'male'].value_counts()/float(df['Sex'][df['Sex'] == 'male'].size)).plot(kind='bar', label='Male', alpha=0.55)\n",
    "(df['Survived'][df['Sex'] == 'female'].value_counts()/float(df['Sex'][df['Sex'] == 'female'].size)).plot(kind='bar', color='#FA2379', label='Female', alpha=0.55)\n",
    "plt.title(\"Who Survied proportionally?\")\n",
    "plt.legend(loc='best')\n",
    "plt.grid(True)"
   ]
  },
  {
   "cell_type": "markdown",
   "metadata": {},
   "source": [
    "# TRAIN MODEL"
   ]
  },
  {
   "cell_type": "markdown",
   "metadata": {},
   "source": [
    "#### Let's just create a formule for our model"
   ]
  },
  {
   "cell_type": "code",
   "execution_count": null,
   "metadata": {
    "collapsed": true
   },
   "outputs": [],
   "source": [
    "# Ref: http://patsy.readthedocs.org/en/latest/formulas.html\n",
    "formula = 'Survived ~ C(Pclass) + C(Sex) + Age + SibSp  + C(Embarked)'"
   ]
  },
  {
   "cell_type": "markdown",
   "metadata": {},
   "source": [
    "####  'dmatrices' is used to used to create regression friendly dataframe"
   ]
  },
  {
   "cell_type": "code",
   "execution_count": null,
   "metadata": {
    "collapsed": false
   },
   "outputs": [],
   "source": [
    "y, X = dmatrices(formula, data=df, return_type='dataframe')\n",
    "# instantiate our model\n",
    "model = sm.Logit(y, X)\n",
    "\n",
    "# fit our model to the training data\n",
    "res = model.fit()\n",
    "\n",
    "# save the result for outputing predictions later\n",
    "result = [res, formula]\n",
    "res.summary()"
   ]
  },
  {
   "cell_type": "markdown",
   "metadata": {},
   "source": [
    "#### Let's try to do something with machine learning"
   ]
  },
  {
   "cell_type": "code",
   "execution_count": null,
   "metadata": {
    "collapsed": true
   },
   "outputs": [],
   "source": [
    "# Create our machine learning formula\n",
    "formula_ml = 'Survived ~ C(Pclass) + C(Sex) + Age + SibSp + Parch + C(Embarked)'"
   ]
  },
  {
   "cell_type": "code",
   "execution_count": null,
   "metadata": {
    "collapsed": false
   },
   "outputs": [],
   "source": [
    "# set plotting parameters\n",
    "plt.figure(figsize=(8,6))\n",
    "\n",
    "# create a regression friendly data frame\n",
    "y, x = dmatrices(formula_ml, data=df, return_type='matrix')\n",
    "\n",
    "# select which features we would like to analyze\n",
    "# try chaning the selection here for diffrent output.\n",
    "# Choose : [2,3] - pretty sweet DBs [3,1] --standard DBs [7,3] -very cool DBs,\n",
    "# [3,6] -- very long complex dbs, could take over an hour to calculate! \n",
    "feature_1 = 2\n",
    "feature_2 = 3\n",
    "\n",
    "X = np.asarray(x)\n",
    "X = X[:,[feature_1, feature_2]]  \n",
    "\n",
    "\n",
    "y = np.asarray(y)\n",
    "# needs to be 1 dimenstional so we flatten. it comes out of dmatirces with a shape. \n",
    "y = y.flatten()      \n",
    "\n",
    "n_sample = len(X)\n",
    "\n",
    "# will give a shuffled set of unique random integers of given range\n",
    "np.random.seed(0)\n",
    "order = np.random.permutation(n_sample)\n",
    "\n",
    "X = X[order]\n",
    "y = y[order].astype(np.float)\n",
    "\n",
    "# do a cross validation\n",
    "nighty_precent_of_sample = int(.9 * n_sample)\n",
    "X_train = X[:nighty_precent_of_sample]\n",
    "y_train = y[:nighty_precent_of_sample]\n",
    "X_test = X[nighty_precent_of_sample:]\n",
    "y_test = y[nighty_precent_of_sample:]\n",
    "\n",
    "# create a list of the types of kerneks we will use for your analysis\n",
    "types_of_kernels = ['linear', 'rbf', 'poly']\n",
    "\n",
    "# specify our color map for plotting the results\n",
    "color_map = plt.cm.Paired\n",
    "# color_map = plt.cm.coolwarm\n",
    "\n",
    "# fit the model\n",
    "for fig_num, kernel in enumerate(types_of_kernels):\n",
    "    clf = svm.SVC(kernel=kernel, gamma=3)\n",
    "    clf.fit(X_train, y_train)\n",
    "\n",
    "    plt.figure(fig_num)\n",
    "    plt.scatter(X[:, 0], X[:, 1], c=y, zorder=10, cmap=color_map)\n",
    "\n",
    "    # circle out the test data\n",
    "    plt.scatter(X_test[:, 0], X_test[:, 1], s=80, facecolors='none', zorder=10)\n",
    "    \n",
    "    plt.axis('tight')\n",
    "    x_min = X[:, 0].min()\n",
    "    x_max = X[:, 0].max()\n",
    "    y_min = X[:, 1].min()\n",
    "    y_max = X[:, 1].max()\n",
    "\n",
    "    XX, YY = np.mgrid[x_min:x_max:200j, y_min:y_max:200j]\n",
    "    Z = clf.decision_function(np.c_[XX.ravel(), YY.ravel()])\n",
    "\n",
    "    # put the result into a color plot\n",
    "    Z = Z.reshape(XX.shape)\n",
    "    plt.pcolormesh(XX, YY, Z > 0, cmap=color_map)\n",
    "    plt.contour(XX, YY, Z, colors=['k', 'k', 'k'], linestyles=['--', '-', '--'],\n",
    "               levels=[-.5, 0, .5])\n",
    "\n",
    "    plt.title(kernel)\n",
    "    plt.show()"
   ]
  },
  {
   "cell_type": "code",
   "execution_count": null,
   "metadata": {
    "collapsed": false
   },
   "outputs": [],
   "source": [
    "clf = svm.SVC(kernel='poly', gamma=3).fit(X_train, y_train)"
   ]
  },
  {
   "cell_type": "markdown",
   "metadata": {},
   "source": [
    "# TEST MODEL"
   ]
  },
  {
   "cell_type": "code",
   "execution_count": null,
   "metadata": {
    "collapsed": false
   },
   "outputs": [],
   "source": [
    "clf.score(X_test, y_test)"
   ]
  },
  {
   "cell_type": "markdown",
   "metadata": {},
   "source": [
    "### Predict results"
   ]
  },
  {
   "cell_type": "code",
   "execution_count": null,
   "metadata": {
    "collapsed": false
   },
   "outputs": [],
   "source": [
    "clf.predict(np.array([0, 1]))"
   ]
  }
 ],
 "metadata": {
  "kernelspec": {
   "display_name": "Python 2",
   "language": "python",
   "name": "python2"
  },
  "language_info": {
   "codemirror_mode": {
    "name": "ipython",
    "version": 2
   },
   "file_extension": ".py",
   "mimetype": "text/x-python",
   "name": "python",
   "nbconvert_exporter": "python",
   "pygments_lexer": "ipython2",
   "version": "2.7.10"
  }
 },
 "nbformat": 4,
 "nbformat_minor": 2
}
